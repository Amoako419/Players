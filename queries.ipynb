{
 "cells": [
  {
   "cell_type": "code",
   "execution_count": 1,
   "metadata": {},
   "outputs": [],
   "source": [
    "# import necessary modules\n",
    "import sqlite3 as sql\n",
    "import pandas as pd\n",
    "import numpy as np"
   ]
  },
  {
   "cell_type": "code",
   "execution_count": 2,
   "metadata": {},
   "outputs": [],
   "source": [
    "# Establishing the sqlite connection\n",
    "conn = sql.connect('database.sqlite')\n",
    "cur = conn.cursor()"
   ]
  },
  {
   "cell_type": "code",
   "execution_count": 4,
   "metadata": {},
   "outputs": [
    {
     "name": "stdout",
     "output_type": "stream",
     "text": [
      "(11060,)\n"
     ]
    }
   ],
   "source": [
    "# print query\n",
    "rows = cur.fetchall()\n",
    "for row in rows:\n",
    "    print(row)"
   ]
  },
  {
   "cell_type": "code",
   "execution_count": 5,
   "metadata": {},
   "outputs": [
    {
     "name": "stdout",
     "output_type": "stream",
     "text": [
      "(1, 505942, 'Aaron Appindangoye', 218353, '1992-02-29 00:00:00', 182.88, 187)\n",
      "(2, 155782, 'Aaron Cresswell', 189615, '1989-12-15 00:00:00', 170.18, 146)\n",
      "(3, 162549, 'Aaron Doran', 186170, '1991-05-13 00:00:00', 170.18, 163)\n",
      "(4, 30572, 'Aaron Galindo', 140161, '1982-05-08 00:00:00', 182.88, 198)\n",
      "(5, 23780, 'Aaron Hughes', 17725, '1979-11-08 00:00:00', 182.88, 154)\n",
      "(6, 27316, 'Aaron Hunt', 158138, '1986-09-04 00:00:00', 182.88, 161)\n",
      "(7, 564793, 'Aaron Kuhl', 221280, '1996-01-30 00:00:00', 172.72, 146)\n",
      "(8, 30895, 'Aaron Lennon', 152747, '1987-04-16 00:00:00', 165.1, 139)\n",
      "(9, 528212, 'Aaron Lennox', 206592, '1993-02-19 00:00:00', 190.5, 181)\n",
      "(10, 101042, 'Aaron Meijers', 188621, '1987-10-28 00:00:00', 175.26, 170)\n",
      "(11, 23889, 'Aaron Mokoena', 47189, '1980-11-25 00:00:00', 182.88, 181)\n",
      "(12, 231592, 'Aaron Mooy', 194958, '1990-09-15 00:00:00', 175.26, 150)\n",
      "(13, 163222, 'Aaron Muirhead', 213568, '1990-08-30 00:00:00', 187.96, 168)\n",
      "(14, 40719, 'Aaron Niguez', 183853, '1989-04-26 00:00:00', 170.18, 143)\n",
      "(15, 75489, 'Aaron Ramsey', 186561, '1990-12-26 00:00:00', 177.8, 154)\n"
     ]
    }
   ],
   "source": [
    "# Selecting the first 15 rows from the player team\n",
    "query = \"SELECT * FROM Player limit 15\"\n",
    "cur.execute(query)\n",
    "rows = cur.fetchall()\n",
    "for row in rows:\n",
    "    print(row)"
   ]
  },
  {
   "cell_type": "code",
   "execution_count": 6,
   "metadata": {},
   "outputs": [
    {
     "name": "stdout",
     "output_type": "stream",
     "text": [
      "(1, 9987, 673, 'KRC Genk', 'GEN')\n",
      "(2, 9993, 675, 'Beerschot AC', 'BAC')\n",
      "(3, 10000, 15005, 'SV Zulte-Waregem', 'ZUL')\n",
      "(4, 9994, 2007, 'Sporting Lokeren', 'LOK')\n",
      "(5, 9984, 1750, 'KSV Cercle Brugge', 'CEB')\n",
      "(6, 8635, 229, 'RSC Anderlecht', 'AND')\n",
      "(7, 9991, 674, 'KAA Gent', 'GEN')\n",
      "(8, 9998, 1747, 'RAEC Mons', 'MON')\n",
      "(9, 7947, None, 'FCV Dender EH', 'DEN')\n",
      "(10, 9985, 232, 'Standard de Liège', 'STL')\n",
      "(11, 8203, 110724, 'KV Mechelen', 'MEC')\n",
      "(12, 8342, 231, 'Club Brugge KV', 'CLB')\n",
      "(13, 9999, 546, 'KSV Roeselare', 'ROS')\n",
      "(14, 8571, 100081, 'KV Kortrijk', 'KOR')\n",
      "(15, 4049, None, 'Tubize', 'TUB')\n"
     ]
    }
   ],
   "source": [
    "# Selecting the first 15 rows of the Team table\n",
    "query = \"SELECT * FROM Team limit 15\"\n",
    "cur.execute(query)\n",
    "rows = cur.fetchall()\n",
    "for row in rows:\n",
    "    print(row)"
   ]
  },
  {
   "cell_type": "code",
   "execution_count": 8,
   "metadata": {},
   "outputs": [
    {
     "name": "stdout",
     "output_type": "stream",
     "text": [
      "(1, 'Belgium', 1, 1, 'Belgium Jupiler League')\n",
      "(1729, 'England', 1729, 1729, 'England Premier League')\n",
      "(4769, 'France', 4769, 4769, 'France Ligue 1')\n",
      "(7809, 'Germany', 7809, 7809, 'Germany 1. Bundesliga')\n",
      "(10257, 'Italy', 10257, 10257, 'Italy Serie A')\n",
      "(13274, 'Netherlands', 13274, 13274, 'Netherlands Eredivisie')\n",
      "(15722, 'Poland', 15722, 15722, 'Poland Ekstraklasa')\n",
      "(17642, 'Portugal', 17642, 17642, 'Portugal Liga ZON Sagres')\n",
      "(19694, 'Scotland', 19694, 19694, 'Scotland Premier League')\n",
      "(21518, 'Spain', 21518, 21518, 'Spain LIGA BBVA')\n",
      "(24558, 'Switzerland', 24558, 24558, 'Switzerland Super League')\n"
     ]
    }
   ],
   "source": [
    "# Viewing the Leagues and it's Nationality\n",
    "query = \"select c.*,l.* from Country c join League l on c.id = l.country_id \"\n",
    "cur.execute(query)\n",
    "rows = cur.fetchall()\n",
    "for row in rows:\n",
    "    print(row)"
   ]
  },
  {
   "cell_type": "code",
   "execution_count": 9,
   "metadata": {},
   "outputs": [
    {
     "name": "stdout",
     "output_type": "stream",
     "text": [
      "(1, 218353, 505942, '2016-02-18 00:00:00', 67, 71, 'right', 'medium', 'medium', 49, 44, 71, 61, 44, 51, 45, 39, 64, 49, 60, 64, 59, 47, 65, 55, 58, 54, 76, 35, 71, 70, 45, 54, 48, 65, 69, 69, 6, 11, 10, 8, 8)\n",
      "(2, 218353, 505942, '2015-11-19 00:00:00', 67, 71, 'right', 'medium', 'medium', 49, 44, 71, 61, 44, 51, 45, 39, 64, 49, 60, 64, 59, 47, 65, 55, 58, 54, 76, 35, 71, 70, 45, 54, 48, 65, 69, 69, 6, 11, 10, 8, 8)\n",
      "(3, 218353, 505942, '2015-09-21 00:00:00', 62, 66, 'right', 'medium', 'medium', 49, 44, 71, 61, 44, 51, 45, 39, 64, 49, 60, 64, 59, 47, 65, 55, 58, 54, 76, 35, 63, 41, 45, 54, 48, 65, 66, 69, 6, 11, 10, 8, 8)\n",
      "(4, 218353, 505942, '2015-03-20 00:00:00', 61, 65, 'right', 'medium', 'medium', 48, 43, 70, 60, 43, 50, 44, 38, 63, 48, 60, 64, 59, 46, 65, 54, 58, 54, 76, 34, 62, 40, 44, 53, 47, 62, 63, 66, 5, 10, 9, 7, 7)\n",
      "(5, 218353, 505942, '2007-02-22 00:00:00', 61, 65, 'right', 'medium', 'medium', 48, 43, 70, 60, 43, 50, 44, 38, 63, 48, 60, 64, 59, 46, 65, 54, 58, 54, 76, 34, 62, 40, 44, 53, 47, 62, 63, 66, 5, 10, 9, 7, 7)\n"
     ]
    }
   ],
   "source": [
    "# Viewing the 5 data from the player_attributes\n",
    "query = \"SELECT * FROM Player_Attributes limit 5\"\n",
    "cur.execute(query)\n",
    "rows = cur.fetchall()\n",
    "for row in rows:\n",
    "    print(row)"
   ]
  },
  {
   "cell_type": "code",
   "execution_count": 17,
   "metadata": {},
   "outputs": [
    {
     "name": "stdout",
     "output_type": "stream",
     "text": [
      "(None, None)\n",
      "('left', 68.6261820132788)\n",
      "('right', 68.59155835241928)\n"
     ]
    }
   ],
   "source": [
    "# Query to find the average overall rating of players by their preferred foot\n",
    "query = \"\"\"\n",
    "SELECT preferred_foot, AVG(overall_rating)\n",
    "FROM Player_Attributes\n",
    "GROUP BY preferred_foot\n",
    "\"\"\"\n",
    "cur.execute(query)\n",
    "rows = cur.fetchall()\n",
    "for row in rows:\n",
    "    print(row)"
   ]
  },
  {
   "cell_type": "code",
   "execution_count": 20,
   "metadata": {},
   "outputs": [
    {
     "name": "stdout",
     "output_type": "stream",
     "text": [
      "('Lionel Messi', 94)\n",
      "('Cristiano Ronaldo', 93)\n",
      "('Gianluigi Buffon', 93)\n",
      "('Lionel Messi', 93)\n",
      "('Wayne Rooney', 93)\n",
      "('Cristiano Ronaldo', 92)\n",
      "('Gregory Coupet', 92)\n",
      "('Xavi Hernandez', 92)\n",
      "('Alessandro Nesta', 91)\n",
      "('Andres Iniesta', 91)\n"
     ]
    }
   ],
   "source": [
    "# Query to find the top 10 players with the highest overall rating\n",
    "query = \"\"\"\n",
    "SELECT distinct(player_name), overall_rating\n",
    "FROM Player_Attributes\n",
    "JOIN Player ON Player_Attributes.player_api_id = Player.player_api_id\n",
    "ORDER BY overall_rating DESC\n",
    "LIMIT 10\n",
    "\"\"\"\n",
    "cur.execute(query)\n",
    "rows = cur.fetchall()\n",
    "for row in rows:\n",
    "    print(row)"
   ]
  },
  {
   "cell_type": "code",
   "execution_count": 21,
   "metadata": {},
   "outputs": [
    {
     "name": "stdout",
     "output_type": "stream",
     "text": [
      "(None, None)\n",
      "('left', 73.50667292602776)\n",
      "('right', 73.445382886951)\n"
     ]
    }
   ],
   "source": [
    "# Query to find the average potential rating of players by their preferred foot\n",
    "query = \"\"\"\n",
    "SELECT preferred_foot, AVG(potential)\n",
    "FROM Player_Attributes\n",
    "GROUP BY preferred_foot\n",
    "\"\"\"\n",
    "cur.execute(query)\n",
    "rows = cur.fetchall()\n",
    "for row in rows:\n",
    "    print(row)"
   ]
  },
  {
   "cell_type": "code",
   "execution_count": 26,
   "metadata": {},
   "outputs": [
    {
     "name": "stdout",
     "output_type": "stream",
     "text": [
      "(None, 836)\n",
      "(33, 2)\n",
      "(35, 5)\n",
      "(36, 3)\n",
      "(37, 3)\n",
      "(38, 8)\n",
      "(39, 12)\n",
      "(40, 24)\n",
      "(41, 41)\n",
      "(42, 47)\n",
      "(43, 47)\n",
      "(44, 50)\n",
      "(45, 92)\n",
      "(46, 142)\n",
      "(47, 152)\n",
      "(48, 231)\n",
      "(49, 295)\n",
      "(50, 586)\n",
      "(51, 665)\n",
      "(52, 865)\n",
      "(53, 980)\n",
      "(54, 1160)\n",
      "(55, 1418)\n",
      "(56, 1798)\n",
      "(57, 2289)\n",
      "(58, 2950)\n",
      "(59, 3239)\n",
      "(60, 4489)\n",
      "(61, 5161)\n",
      "(62, 6041)\n",
      "(63, 7704)\n",
      "(64, 9030)\n",
      "(65, 9336)\n",
      "(66, 10112)\n",
      "(67, 10198)\n",
      "(68, 10492)\n",
      "(69, 10281)\n",
      "(70, 10028)\n",
      "(71, 9354)\n",
      "(72, 9740)\n",
      "(73, 9044)\n",
      "(74, 8556)\n",
      "(75, 7359)\n",
      "(76, 6150)\n",
      "(77, 5104)\n",
      "(78, 4064)\n",
      "(79, 3461)\n",
      "(80, 2773)\n",
      "(81, 2174)\n",
      "(82, 1663)\n",
      "(83, 1166)\n",
      "(84, 855)\n",
      "(85, 604)\n",
      "(86, 456)\n",
      "(87, 292)\n",
      "(88, 151)\n",
      "(89, 77)\n",
      "(90, 68)\n",
      "(91, 16)\n",
      "(92, 16)\n",
      "(93, 11)\n",
      "(94, 12)\n"
     ]
    }
   ],
   "source": [
    "# Query to find the distribution of players' overall ratings\n",
    "query = \"\"\"\n",
    "SELECT overall_rating, COUNT(*)\n",
    "FROM Player_Attributes\n",
    "GROUP BY overall_rating\n",
    "ORDER BY overall_rating\n",
    "\n",
    "\"\"\"\n",
    "cur.execute(query)\n",
    "rows = cur.fetchall()\n",
    "for row in rows:\n",
    "    print(row)"
   ]
  },
  {
   "cell_type": "code",
   "execution_count": 35,
   "metadata": {},
   "outputs": [
    {
     "name": "stdout",
     "output_type": "stream",
     "text": [
      "('Jeremy Sapina', 197511)\n"
     ]
    }
   ],
   "source": [
    "#  Players with the Highest Number of Yellow Cards\n",
    "query = \"\"\"\n",
    "SELECT p.player_name, COUNT(*) AS yellow_cards\n",
    "FROM Match m\n",
    "JOIN Player p ON m.home_player_1 = p.player_api_id \n",
    "OR m.home_player_2 = p.player_api_id OR \n",
    "m.home_player_3 = p.player_api_id OR \n",
    "m.home_player_4 = p.player_api_id OR \n",
    "m.home_player_5 = p.player_api_id OR \n",
    "m.home_player_6 = p.player_api_id OR \n",
    "m.home_player_7 = p.player_api_id OR \n",
    "m.home_player_8 = p.player_api_id \n",
    "\"\"\"\n",
    "cur.execute(query)\n",
    "row = cur.fetchone()\n",
    "print(row)"
   ]
  },
  {
   "cell_type": "code",
   "execution_count": 37,
   "metadata": {},
   "outputs": [
    {
     "name": "stdout",
     "output_type": "stream",
     "text": [
      "[('Carpi', 80)]\n"
     ]
    }
   ],
   "source": [
    "# The team with the highest build-up play speed:\n",
    "query = \"\"\"\n",
    "SELECT team_long_name, MAX(buildUpPlaySpeed) AS max_build_up_speed \n",
    "FROM Team_Attributes ta JOIN Team t ON ta.team_api_id = t.team_api_id\n",
    "\"\"\"\n",
    "cur.execute(query)\n",
    "row = cur.fetchall()\n",
    "print(row)"
   ]
  },
  {
   "cell_type": "code",
   "execution_count": 41,
   "metadata": {},
   "outputs": [
    {
     "name": "stdout",
     "output_type": "stream",
     "text": [
      "('2008/2009', 3326)\n",
      "('2009/2010', 3230)\n",
      "('2010/2011', 3260)\n",
      "('2011/2012', 3220)\n",
      "('2012/2013', 3260)\n",
      "('2013/2014', 3032)\n",
      "('2014/2015', 3325)\n",
      "('2015/2016', 3326)\n"
     ]
    }
   ],
   "source": [
    "# The total number of matches played in each season\n",
    "query = \"SELECT season, COUNT(*) AS total_matches FROM Match GROUP BY season\"\n",
    "cur.execute(query)\n",
    "rows = cur.fetchall()\n",
    "for row in rows:\n",
    "    print(row)"
   ]
  },
  {
   "cell_type": "code",
   "execution_count": null,
   "metadata": {},
   "outputs": [],
   "source": []
  }
 ],
 "metadata": {
  "kernelspec": {
   "display_name": "base",
   "language": "python",
   "name": "python3"
  },
  "language_info": {
   "codemirror_mode": {
    "name": "ipython",
    "version": 3
   },
   "file_extension": ".py",
   "mimetype": "text/x-python",
   "name": "python",
   "nbconvert_exporter": "python",
   "pygments_lexer": "ipython3",
   "version": "3.11.7"
  }
 },
 "nbformat": 4,
 "nbformat_minor": 2
}
